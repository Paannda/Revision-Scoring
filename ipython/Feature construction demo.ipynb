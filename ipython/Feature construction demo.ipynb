{
 "cells": [
  {
   "cell_type": "code",
   "execution_count": 1,
   "metadata": {
    "collapsed": true
   },
   "outputs": [],
   "source": [
    "import sys;sys.path.insert(0, \"..\") # For making revscoring accessible when running this from revscoring/ipython\n",
    "from revscoring.features import revision, diff, Feature, modifiers\n",
    "from revscoring.datasources.revision import text as revision_text\n",
    "from revscoring.extractors import APIExtractor\n",
    "from mw import api"
   ]
  },
  {
   "cell_type": "markdown",
   "metadata": {},
   "source": [
    "## Feature extractor setup\n",
    "This line constructs a \"feature extractor\" that uses Wikipedia's API to solve dependencies."
   ]
  },
  {
   "cell_type": "code",
   "execution_count": 2,
   "metadata": {
    "collapsed": false
   },
   "outputs": [
    {
     "name": "stderr",
     "output_type": "stream",
     "text": [
      "WARNING:mw.api.session:Sending requests with default User-Agent.  Set 'user_agent' on api.Session to quiet this message.\n"
     ]
    }
   ],
   "source": [
    "extractor = APIExtractor(api.Session(\"https://en.wikipedia.org/w/api.php\"))"
   ]
  },
  {
   "cell_type": "markdown",
   "metadata": {},
   "source": [
    "## Using the extractor to extract features\n",
    "The following line demonstrates a simple feature extraction.  Note that we wrap the call in a list() because it returns a generator.  "
   ]
  },
  {
   "cell_type": "code",
   "execution_count": 3,
   "metadata": {
    "collapsed": false
   },
   "outputs": [
    {
     "data": {
      "text/plain": [
       "[6]"
      ]
     },
     "execution_count": 3,
     "metadata": {},
     "output_type": "execute_result"
    }
   ],
   "source": [
    "list(extractor.extract(123456789, [diff.chars_added]))"
   ]
  },
  {
   "cell_type": "markdown",
   "metadata": {},
   "source": [
    "### Defining a custom feature\n",
    "The next block defines a new feature and sets the dependencies to be two other features: `diff.chars_added` and `revision.chars`.  This feature represents the proportion of characters in the current version of the page that the current edit is responsible for adding."
   ]
  },
  {
   "cell_type": "code",
   "execution_count": 4,
   "metadata": {
    "collapsed": false
   },
   "outputs": [
    {
     "data": {
      "text/plain": [
       "[0.0002550369803621525]"
      ]
     },
     "execution_count": 4,
     "metadata": {},
     "output_type": "execute_result"
    }
   ],
   "source": [
    "chars_added_ratio = Feature(\"diff.chars_added_ratio\", \n",
    "                            lambda a,c: a/max(c, 1), # Prevents divide by zero\n",
    "                            depends_on=[diff.chars_added, revision.chars],\n",
    "                            returns=float)\n",
    "list(extractor.extract(123456789, [chars_added_ratio]))"
   ]
  },
  {
   "cell_type": "markdown",
   "metadata": {},
   "source": [
    "There's easier ways that we can do this though.  I've overloaded simple mathematical operators to allow you to do simple math with feature and get a feature returned.  This code roughly corresponds to what's going on above. "
   ]
  },
  {
   "cell_type": "code",
   "execution_count": 5,
   "metadata": {
    "collapsed": false
   },
   "outputs": [
    {
     "data": {
      "text/plain": [
       "[0.0002550369803621525]"
      ]
     },
     "execution_count": 5,
     "metadata": {},
     "output_type": "execute_result"
    }
   ],
   "source": [
    "chars_added_ratio = diff.chars_added / modifiers.max(revision.chars, 1) # Prevents divide by zero\n",
    "list(extractor.extract(123456789, [chars_added_ratio]))"
   ]
  },
  {
   "cell_type": "markdown",
   "metadata": {},
   "source": [
    "## Using datasources\n",
    "There's a also a set of datasources that are part of the dependency injection system.  See revscoring/revscoring/datasources.  I'll need to rename the `diff` datasource when I import it because of the name clash.  FWIW, you usually don't use features and datasources in the same context, so there's some name overlap.  "
   ]
  },
  {
   "cell_type": "code",
   "execution_count": 6,
   "metadata": {
    "collapsed": false
   },
   "outputs": [
    {
     "data": {
      "text/plain": [
       "[['Ideology and policies',\n",
       "  'Political scientists [[Robert Ford]] and [[Matthew Goodwin]] characterised UKIP as \"a radical right party\".{{sfn|Ford|Goodwin|2014|p=13}}\\n\\n',\n",
       "  '{{fact}}',\n",
       "  '{{fact}}',\n",
       "  '{{fact}}',\n",
       "  '{{fact}}',\n",
       "  '{{fact}}',\n",
       "  '{{fact}}',\n",
       "  '{{fact}}',\n",
       "  '{{fact}}',\n",
       "  '{{fact}}',\n",
       "  '{{fact}}']]"
      ]
     },
     "execution_count": 6,
     "metadata": {},
     "output_type": "execute_result"
    }
   ],
   "source": [
    "from revscoring.datasources import diff as diff_datasource\n",
    "list(extractor.extract(662953550, [diff_datasource.added_segments]))"
   ]
  },
  {
   "cell_type": "markdown",
   "metadata": {},
   "source": [
    "OK.  Let's define a new feature for counting the number of templates added.  I'll make use of mwparserfromhell to do this.  See [the docs](http://mwparserfromhell.readthedocs.org/en/latest/)."
   ]
  },
  {
   "cell_type": "code",
   "execution_count": 7,
   "metadata": {
    "collapsed": false
   },
   "outputs": [
    {
     "data": {
      "text/plain": [
       "[11]"
      ]
     },
     "execution_count": 7,
     "metadata": {},
     "output_type": "execute_result"
    }
   ],
   "source": [
    "import mwparserfromhell as mwp\n",
    "\n",
    "templates_added = Feature(\"diff.templates_added\", \n",
    "                          lambda add_segments: sum(len(mwp.parse(s).filter_templates()) > 0 for s in add_segments),\n",
    "                          depends_on=[diff_datasource.added_segments],\n",
    "                          returns=int)\n",
    "list(extractor.extract(662953550, [templates_added]))"
   ]
  },
  {
   "cell_type": "markdown",
   "metadata": {},
   "source": [
    "## Debugging\n",
    "There's some facilities in place to help you make sense of issues when they arise.  The most important is the draw function."
   ]
  },
  {
   "cell_type": "code",
   "execution_count": 8,
   "metadata": {
    "collapsed": false
   },
   "outputs": [
    {
     "name": "stdout",
     "output_type": "stream",
     "text": [
      " - <diff.templates_added>\n",
      "\t - <diff.added_segments>\n",
      "\t\t - <diff.operations>\n",
      "\t\t\t - <parent_revision.text>\n",
      "\t\t\t - <revision.text>\n"
     ]
    }
   ],
   "source": [
    "from revscoring.dependent import draw\n",
    "draw(templates_added)"
   ]
  },
  {
   "cell_type": "markdown",
   "metadata": {},
   "source": [
    "In the tree structure above, you can see how our new feature depends on \"diff.added_segments\" which depends on \"diff.operations\" which depends (as you might imaging) on the current and parent revision.  Other features are a bit more complicated.  "
   ]
  },
  {
   "cell_type": "code",
   "execution_count": 9,
   "metadata": {
    "collapsed": false
   },
   "outputs": [
    {
     "name": "stdout",
     "output_type": "stream",
     "text": [
      " - <((diff.badwords_added / max(diff.words_added, 1)) / max((parent_revision.badwords / max(parent_revision.words, 1)), 0.001))>\n",
      "\t - <(diff.badwords_added / max(diff.words_added, 1))>\n",
      "\t\t - <diff.badwords_added>\n",
      "\t\t\t - <is_badword>\n",
      "\t\t\t - <diff.added_words>\n",
      "\t\t\t\t - <diff.added_segments>\n",
      "\t\t\t\t\t - <diff.operations>\n",
      "\t\t\t\t\t\t - <parent_revision.text>\n",
      "\t\t\t\t\t\t - <revision.text>\n",
      "\t\t - <max(diff.words_added, 1)>\n",
      "\t\t\t - <diff.words_added>\n",
      "\t\t\t\t - <diff.added_words>\n",
      "\t\t\t\t\t - <diff.added_segments>\n",
      "\t\t\t\t\t\t - <diff.operations>\n",
      "\t\t\t\t\t\t\t - <parent_revision.text>\n",
      "\t\t\t\t\t\t\t - <revision.text>\n",
      "\t\t\t - <1>\n",
      "\t - <max((parent_revision.badwords / max(parent_revision.words, 1)), 0.001)>\n",
      "\t\t - <(parent_revision.badwords / max(parent_revision.words, 1))>\n",
      "\t\t\t - <parent_revision.badwords>\n",
      "\t\t\t\t - <is_badword>\n",
      "\t\t\t\t - <parent_revision.words>\n",
      "\t\t\t\t\t - <parent_revision.text>\n",
      "\t\t\t - <max(parent_revision.words, 1)>\n",
      "\t\t\t\t - <parent_revision.words>\n",
      "\t\t\t\t\t - <parent_revision.words>\n",
      "\t\t\t\t\t\t - <parent_revision.text>\n",
      "\t\t\t\t - <1>\n",
      "\t\t - <0.001>\n"
     ]
    }
   ],
   "source": [
    "draw(diff.added_badwords_ratio)"
   ]
  },
  {
   "cell_type": "code",
   "execution_count": null,
   "metadata": {
    "collapsed": true
   },
   "outputs": [],
   "source": []
  }
 ],
 "metadata": {
  "kernelspec": {
   "display_name": "Python 3",
   "language": "python",
   "name": "python3"
  },
  "language_info": {
   "codemirror_mode": {
    "name": "ipython",
    "version": 3
   },
   "file_extension": ".py",
   "mimetype": "text/x-python",
   "name": "python",
   "nbconvert_exporter": "python",
   "pygments_lexer": "ipython3",
   "version": "3.4.0"
  }
 },
 "nbformat": 4,
 "nbformat_minor": 0
}
